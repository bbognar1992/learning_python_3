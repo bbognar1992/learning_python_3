{
 "cells": [
  {
   "cell_type": "markdown",
   "id": "06bf8f2b",
   "metadata": {},
   "source": [
    "# characters\n",
    "\", ' : string bordering \n",
    "\n",
    "=, +, -, *, ÷, % : math symbols\n",
    "\n",
    "{} : using variables in string\n",
    "\n",
    "\\ : backslash - mute special characters\n",
    "\n",
    "\n"
   ]
  },
  {
   "cell_type": "markdown",
   "id": "542c1965",
   "metadata": {},
   "source": []
  }
 ],
 "metadata": {
  "kernelspec": {
   "display_name": "Python 3 (ipykernel)",
   "language": "python",
   "name": "python3"
  },
  "language_info": {
   "codemirror_mode": {
    "name": "ipython",
    "version": 3
   },
   "file_extension": ".py",
   "mimetype": "text/x-python",
   "name": "python",
   "nbconvert_exporter": "python",
   "pygments_lexer": "ipython3",
   "version": "3.9.8"
  }
 },
 "nbformat": 4,
 "nbformat_minor": 5
}
